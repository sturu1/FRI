{
  "nbformat": 4,
  "nbformat_minor": 0,
  "metadata": {
    "colab": {
      "name": "2020_7_20_오전수업.ipynb",
      "provenance": [],
      "authorship_tag": "ABX9TyMz3yPKG9LstYROCmktqt4g",
      "include_colab_link": true
    },
    "kernelspec": {
      "name": "python3",
      "display_name": "Python 3"
    }
  },
  "cells": [
    {
      "cell_type": "markdown",
      "metadata": {
        "id": "view-in-github",
        "colab_type": "text"
      },
      "source": [
        "<a href=\"https://colab.research.google.com/github/sturu1/FRI/blob/master/2020_7_20_%EC%98%A4%EC%A0%84%EC%88%98%EC%97%85.ipynb\" target=\"_parent\"><img src=\"https://colab.research.google.com/assets/colab-badge.svg\" alt=\"Open In Colab\"/></a>"
      ]
    },
    {
      "cell_type": "markdown",
      "metadata": {
        "id": "8MGrS4w8vgh7",
        "colab_type": "text"
      },
      "source": [
        "# 시계열 예측하기"
      ]
    },
    {
      "cell_type": "code",
      "metadata": {
        "id": "nKHCk-kikO1v",
        "colab_type": "code",
        "colab": {}
      },
      "source": [
        "#python >= 3.5 is required\n",
        "import sys\n",
        "assert sys.version_info >= (3,5)\n"
      ],
      "execution_count": 51,
      "outputs": []
    },
    {
      "cell_type": "code",
      "metadata": {
        "id": "O84tnf-3u3av",
        "colab_type": "code",
        "colab": {}
      },
      "source": [
        "#Scikit=Learn >= 0.20 is required\n",
        "import sklearn\n",
        "assert sklearn.__version__ >= \"0.20\"\n",
        "\n",
        "try:\n",
        "  #%tensorflow_version only exists in Colab.\n",
        "  %tensorflow_version 2.x\n",
        "  IS_COLAB = True\n",
        "except Exception:\n",
        "  IS_COLAB = False\n"
      ],
      "execution_count": 52,
      "outputs": []
    },
    {
      "cell_type": "code",
      "metadata": {
        "id": "23IbNoEiu5xP",
        "colab_type": "code",
        "colab": {}
      },
      "source": [
        "#Tensorflow >= 2.0 is required\n",
        "import tensorflow as tf\n",
        "from tensorflow import keras\n",
        "assert tf.__version__ >= \"2.0\""
      ],
      "execution_count": 53,
      "outputs": []
    },
    {
      "cell_type": "code",
      "metadata": {
        "id": "b-XAxFbpvcYk",
        "colab_type": "code",
        "colab": {
          "base_uri": "https://localhost:8080/",
          "height": 51
        },
        "outputId": "1e014e8f-7958-4771-8a62-31b11c87bc0d"
      },
      "source": [
        "if not tf.config.list_physical_devices('GPU'):\n",
        "  print(\"No\")\n",
        "  if IS_COLAB:\n",
        "    print(\"GO\")\n",
        "\n",
        "#common imports\n",
        "import numpy as np\n",
        "import os\n",
        "from pathlib import Path\n",
        "\n",
        "#to make this notebook's output stable across runs\n",
        "np.random.seed(42)\n",
        "tf.random.set_seed(42)"
      ],
      "execution_count": 54,
      "outputs": [
        {
          "output_type": "stream",
          "text": [
            "No\n",
            "GO\n"
          ],
          "name": "stdout"
        }
      ]
    },
    {
      "cell_type": "code",
      "metadata": {
        "id": "iji-ZThmwTOO",
        "colab_type": "code",
        "colab": {}
      },
      "source": [
        "%matplotlib inline\n",
        "import matplotlib.pyplot as mpl\n",
        "import matplotlib.pyplot as plt\n",
        "\n",
        "mpl.rc('axes', labelsize=14)\n",
        "mpl.rc('xtick', labelsize=12)\n",
        "mpl.rc('ytick', labelsize=12)\n",
        "\n",
        "PROJECT_ROOT_DIR = \".\"\n",
        "CHAPTER_ID = \"rnn\"\n",
        "IMAGES_PATH = os.path.join(PROJECT_ROOT_DIR, \"images\", CHAPTER_ID)\n",
        "os.makedirs(IMAGES_PATH, exist_ok = True)"
      ],
      "execution_count": 55,
      "outputs": []
    },
    {
      "cell_type": "code",
      "metadata": {
        "id": "QZAs3l70xuv3",
        "colab_type": "code",
        "colab": {}
      },
      "source": [
        "def save_fig(fig_id, tight_layout=True, fig_extension=\"png\", resolution=300):\n",
        "  path = os.path.join(IMAGES_PATH, fig_id + \".\" + fig_extension)\n",
        "  print(\"Saving figur\", fig_id)\n",
        "  if tight_layout:\n",
        "    plt.tight_layout()\n",
        "  plt.savefig(path, format=fig_extension, dpi=resolution)"
      ],
      "execution_count": 56,
      "outputs": []
    },
    {
      "cell_type": "code",
      "metadata": {
        "id": "p8Vu1N62zh2Y",
        "colab_type": "code",
        "colab": {}
      },
      "source": [
        "def generate_time_series(batch_size, n_steps):\n",
        "  freq1, freq2, offsets1, offsets2 = np.random.rand(4, batch_size, 1)\n",
        "  time = np.linspace(0,1,n_steps)\n",
        "  series = 0.5 * np.sin((time - offsets1) * (freq1 * 10 + 10)) #wave 1\n",
        "  series += 0.2 * np.sin((time - offsets2) * (freq2 * 20 + 20)) #wave 2\n",
        "  series += 0.1 * (np.random.rand(batch_size, n_steps)- 0.5) # + noise\n",
        "  return series[..., np.newaxis].astype(np.float32)"
      ],
      "execution_count": 57,
      "outputs": []
    },
    {
      "cell_type": "code",
      "metadata": {
        "id": "cyxJbQNJ0iVS",
        "colab_type": "code",
        "colab": {}
      },
      "source": [
        "np.random.seed(42)\n",
        "\n",
        "n_steps = 50\n",
        "series = generate_time_series(10000, n_steps +1)\n",
        "X_train, y_train = series[:7000, :n_steps], series[:7000, -1]\n",
        "X_valid, y_valid = series[7000:9000, :n_steps], series[7000:9000, -1]\n",
        "X_test, y_test = series[9000:, :n_steps], series[9000:, -1]"
      ],
      "execution_count": 58,
      "outputs": []
    },
    {
      "cell_type": "code",
      "metadata": {
        "id": "y07S3r5F2mib",
        "colab_type": "code",
        "colab": {
          "base_uri": "https://localhost:8080/",
          "height": 34
        },
        "outputId": "58d5c012-8dd3-465e-a28d-4b7f32facc78"
      },
      "source": [
        "X_train.shape, y_train.shape "
      ],
      "execution_count": 59,
      "outputs": [
        {
          "output_type": "execute_result",
          "data": {
            "text/plain": [
              "((7000, 50, 1), (7000, 1))"
            ]
          },
          "metadata": {
            "tags": []
          },
          "execution_count": 59
        }
      ]
    },
    {
      "cell_type": "code",
      "metadata": {
        "id": "_CfZj6hh31H8",
        "colab_type": "code",
        "colab": {}
      },
      "source": [
        "\n",
        "def plot_series(series, y=None, y_pred=None, x_label=\"$t$\", y_label=\"$x(t)$\"):\n",
        "  plt.plot(series, \".\")\n",
        "  if y is not None:\n",
        "    plt.plot(n_steps,y,\"bx\", markersize=10)\n",
        "  if y_pred is not None:\n",
        "    plt.plot(n_steps,y_pred,\"ro\")\n",
        "  plt.grid(True)\n",
        "  if x_label:\n",
        "    plt.xlabel(x_label, fontsize=16)\n",
        "  if y_label:\n",
        "    plt.ylabel(y_label, fontsize=16, rotation=0)\n",
        "  plt.hlines(0, 0, 100, linewidth=1)\n",
        "  plt.axis([0, n_steps + 1, -1, 1])"
      ],
      "execution_count": 66,
      "outputs": []
    },
    {
      "cell_type": "code",
      "metadata": {
        "id": "RUcJGfLY5KQu",
        "colab_type": "code",
        "colab": {
          "base_uri": "https://localhost:8080/",
          "height": 314
        },
        "outputId": "90317a2b-2ebb-4da8-db3b-234f87ad5bca"
      },
      "source": [
        "fig, axes = plt.subplots(nrows=1, ncols=3, sharey=True, figsize=(12,4))\n",
        "for col in range(3):\n",
        "  plt.sca(axes[col])\n",
        "  plot_series(X_valid[col, :, 0], y_valid[col,0], y_label=(\"$x(t)$\" if col == 0 else None))\n",
        "\n",
        "save_fig(\"time_series_plot\")\n",
        "plt.show()"
      ],
      "execution_count": 67,
      "outputs": [
        {
          "output_type": "stream",
          "text": [
            "Saving figur time_series_plot\n"
          ],
          "name": "stdout"
        },
        {
          "output_type": "display_data",
          "data": {
            "image/png": "[encoded data removed]",
            "text/plain": [
              "<Figure size 864x288 with 3 Axes>"
            ]
          },
          "metadata": {
            "tags": [],
            "needs_background": "light"
          }
        }
      ]
    },
    {
      "cell_type": "code",
      "metadata": {
        "id": "9argCwhU7UK4",
        "colab_type": "code",
        "colab": {}
      },
      "source": [
        ""
      ],
      "execution_count": null,
      "outputs": []
    }
  ]
}