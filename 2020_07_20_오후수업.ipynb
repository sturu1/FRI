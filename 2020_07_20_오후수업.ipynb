{
  "nbformat": 4,
  "nbformat_minor": 0,
  "metadata": {
    "colab": {
      "name": "2020_07_20_오후수업.ipynb",
      "provenance": [],
      "mount_file_id": "1lBFH-fZ1jiqekaVOctsoXYalDZ6sr65H",
      "authorship_tag": "ABX9TyP8eJXaoQXAh/jiviY5YCZX",
      "include_colab_link": true
    },
    "kernelspec": {
      "name": "python3",
      "display_name": "Python 3"
    }
  },
  "cells": [
    {
      "cell_type": "markdown",
      "metadata": {
        "id": "view-in-github",
        "colab_type": "text"
      },
      "source": [
        "<a href=\"https://colab.research.google.com/github/sturu1/FRI/blob/master/2020_07_20_%EC%98%A4%ED%9B%84%EC%88%98%EC%97%85.ipynb\" target=\"_parent\"><img src=\"https://colab.research.google.com/assets/colab-badge.svg\" alt=\"Open In Colab\"/></a>"
      ]
    },
    {
      "cell_type": "code",
      "metadata": {
        "id": "L1EY9klqnJ_y",
        "colab_type": "code",
        "colab": {
          "base_uri": "https://localhost:8080/",
          "height": 34
        },
        "outputId": "3b70dd7a-9202-44b3-8a21-9c8b20a97597"
      },
      "source": [
        "import numpy as np\n",
        "import matplotlib.pyplot as plt\n",
        "#plt.style.use('fivethirteight')\n",
        "import pandas as pd\n",
        "from sklearn.preprocessing import MinMaxScaler\n",
        "from keras.models import Sequential\n",
        "from keras.layers import Dense, LSTM, GRU, Bidirectional, Dropout\n",
        "from keras.optimizers import SGD\n",
        "import math\n",
        "from sklearn.metrics import mean_squared_error"
      ],
      "execution_count": 3,
      "outputs": [
        {
          "output_type": "stream",
          "text": [
            "Using TensorFlow backend.\n"
          ],
          "name": "stderr"
        }
      ]
    },
    {
      "cell_type": "code",
      "metadata": {
        "id": "7hy9sYTfnKqu",
        "colab_type": "code",
        "colab": {}
      },
      "source": [
        "#포맷 세팅이 중요 계속 사용하기때문에\n",
        "def plot_predictions(test, predicted):\n",
        "  plt.plot(test, color = 'red', label='Real IBM Stock Price')\n",
        "  plt.plot(predicted, color='blue', label='Predicted IBM Stock Price')\n",
        "  plt.title('IBM Stock Price Prediction')\n",
        "  plt.xlabel('Time')\n",
        "  plt.ylabel('IBM Stock Price')\n",
        "  plt.legend()\n",
        "  plt.show()"
      ],
      "execution_count": 42,
      "outputs": []
    },
    {
      "cell_type": "code",
      "metadata": {
        "id": "gmVo9KTunNNM",
        "colab_type": "code",
        "colab": {}
      },
      "source": [
        "#숫자로\n",
        "def return_rmse(test, predicted):\n",
        "  rmse = math.sqrt(mean_squared_error(test, predicted))\n",
        "  print('The root mean squared error is {}'.format(rmse))"
      ],
      "execution_count": 5,
      "outputs": []
    },
    {
      "cell_type": "code",
      "metadata": {
        "id": "B-NhxzmCnNcI",
        "colab_type": "code",
        "colab": {
          "base_uri": "https://localhost:8080/",
          "height": 235
        },
        "outputId": "53cc5a79-acaf-4308-9517-5e054072f32e"
      },
      "source": [
        "#드라이브 마운드 하기\n",
        "dataset = pd.read_csv('/content/drive/My Drive/Colab Notebooks/IBM_2006-01-01_to_2018-01-01.csv', index_col = 'Date', parse_dates= ['Date'])\n",
        "dataset.head()"
      ],
      "execution_count": 6,
      "outputs": [
        {
          "output_type": "execute_result",
          "data": {
            "text/html": [
              "<div>\n",
              "<style scoped>\n",
              "    .dataframe tbody tr th:only-of-type {\n",
              "        vertical-align: middle;\n",
              "    }\n",
              "\n",
              "    .dataframe tbody tr th {\n",
              "        vertical-align: top;\n",
              "    }\n",
              "\n",
              "    .dataframe thead th {\n",
              "        text-align: right;\n",
              "    }\n",
              "</style>\n",
              "<table border=\"1\" class=\"dataframe\">\n",
              "  <thead>\n",
              "    <tr style=\"text-align: right;\">\n",
              "      <th></th>\n",
              "      <th>Open</th>\n",
              "      <th>High</th>\n",
              "      <th>Low</th>\n",
              "      <th>Close</th>\n",
              "      <th>Volume</th>\n",
              "      <th>Name</th>\n",
              "    </tr>\n",
              "    <tr>\n",
              "      <th>Date</th>\n",
              "      <th></th>\n",
              "      <th></th>\n",
              "      <th></th>\n",
              "      <th></th>\n",
              "      <th></th>\n",
              "      <th></th>\n",
              "    </tr>\n",
              "  </thead>\n",
              "  <tbody>\n",
              "    <tr>\n",
              "      <th>2006-01-03</th>\n",
              "      <td>82.45</td>\n",
              "      <td>82.55</td>\n",
              "      <td>80.81</td>\n",
              "      <td>82.06</td>\n",
              "      <td>11715200</td>\n",
              "      <td>IBM</td>\n",
              "    </tr>\n",
              "    <tr>\n",
              "      <th>2006-01-04</th>\n",
              "      <td>82.20</td>\n",
              "      <td>82.50</td>\n",
              "      <td>81.33</td>\n",
              "      <td>81.95</td>\n",
              "      <td>9840600</td>\n",
              "      <td>IBM</td>\n",
              "    </tr>\n",
              "    <tr>\n",
              "      <th>2006-01-05</th>\n",
              "      <td>81.40</td>\n",
              "      <td>82.90</td>\n",
              "      <td>81.00</td>\n",
              "      <td>82.50</td>\n",
              "      <td>7213500</td>\n",
              "      <td>IBM</td>\n",
              "    </tr>\n",
              "    <tr>\n",
              "      <th>2006-01-06</th>\n",
              "      <td>83.95</td>\n",
              "      <td>85.03</td>\n",
              "      <td>83.41</td>\n",
              "      <td>84.95</td>\n",
              "      <td>8197400</td>\n",
              "      <td>IBM</td>\n",
              "    </tr>\n",
              "    <tr>\n",
              "      <th>2006-01-09</th>\n",
              "      <td>84.10</td>\n",
              "      <td>84.25</td>\n",
              "      <td>83.38</td>\n",
              "      <td>83.73</td>\n",
              "      <td>6858200</td>\n",
              "      <td>IBM</td>\n",
              "    </tr>\n",
              "  </tbody>\n",
              "</table>\n",
              "</div>"
            ],
            "text/plain": [
              "             Open   High    Low  Close    Volume Name\n",
              "Date                                                 \n",
              "2006-01-03  82.45  82.55  80.81  82.06  11715200  IBM\n",
              "2006-01-04  82.20  82.50  81.33  81.95   9840600  IBM\n",
              "2006-01-05  81.40  82.90  81.00  82.50   7213500  IBM\n",
              "2006-01-06  83.95  85.03  83.41  84.95   8197400  IBM\n",
              "2006-01-09  84.10  84.25  83.38  83.73   6858200  IBM"
            ]
          },
          "metadata": {
            "tags": []
          },
          "execution_count": 6
        }
      ]
    },
    {
      "cell_type": "code",
      "metadata": {
        "id": "VePVUaW8nOgW",
        "colab_type": "code",
        "colab": {}
      },
      "source": [
        "training_set = dataset[: '2016'].iloc[:, 1:2].values\n",
        "test_set = dataset['2017':].iloc[:, 1:2].values"
      ],
      "execution_count": 7,
      "outputs": []
    },
    {
      "cell_type": "code",
      "metadata": {
        "id": "w3pZDqRIpwcb",
        "colab_type": "code",
        "colab": {
          "base_uri": "https://localhost:8080/",
          "height": 34
        },
        "outputId": "b7d0245d-4817-4448-9189-629b50895a2c"
      },
      "source": [
        "training_set.shape"
      ],
      "execution_count": 8,
      "outputs": [
        {
          "output_type": "execute_result",
          "data": {
            "text/plain": [
              "(2769, 1)"
            ]
          },
          "metadata": {
            "tags": []
          },
          "execution_count": 8
        }
      ]
    },
    {
      "cell_type": "code",
      "metadata": {
        "id": "0DPkgNqLpxRq",
        "colab_type": "code",
        "colab": {
          "base_uri": "https://localhost:8080/",
          "height": 34
        },
        "outputId": "68e8b5c6-1eac-4a03-954d-3a2d31ec43c1"
      },
      "source": [
        "test_set.shape"
      ],
      "execution_count": 9,
      "outputs": [
        {
          "output_type": "execute_result",
          "data": {
            "text/plain": [
              "(251, 1)"
            ]
          },
          "metadata": {
            "tags": []
          },
          "execution_count": 9
        }
      ]
    },
    {
      "cell_type": "code",
      "metadata": {
        "id": "Fs3JxpbzpyLx",
        "colab_type": "code",
        "colab": {
          "base_uri": "https://localhost:8080/",
          "height": 285
        },
        "outputId": "c807a1bf-8cf1-4cb3-96a9-26a8f7fb2916"
      },
      "source": [
        "dataset['High'][:'2016'].plot(figsize=(16, 4), legend=True)\n",
        "dataset['High']['2017':].plot(figsize=(16, 4), legend=True)\n",
        "\n",
        "plt.legend(['Training set', 'Test set'])\n",
        "plt.title('IBM Stock Price')\n",
        "plt.show()"
      ],
      "execution_count": 10,
      "outputs": [
        {
          "output_type": "display_data",
          "data": {
            "image/png": "[encoded data removed]",
            "text/plain": [
              "<Figure size 1152x288 with 1 Axes>"
            ]
          },
          "metadata": {
            "tags": [],
            "needs_background": "light"
          }
        }
      ]
    },
    {
      "cell_type": "code",
      "metadata": {
        "id": "Zo-m7VzzpzOI",
        "colab_type": "code",
        "colab": {}
      },
      "source": [
        "#sc이 중요\n",
        "sc = MinMaxScaler(feature_range=(0,1))\n",
        "training_set_scaled = sc.fit_transform(training_set)"
      ],
      "execution_count": 11,
      "outputs": []
    },
    {
      "cell_type": "code",
      "metadata": {
        "id": "FQiw1WrNp0kS",
        "colab_type": "code",
        "colab": {}
      },
      "source": [
        "X_train = [] #데이터 묶음이라서 X는 대문자임\n",
        "y_train = [] #y는 데이터 하나라서 소문자임\n",
        "for i in range(60, 2769):\n",
        "  X_train.append(training_set_scaled[i-60:i, 0])\n",
        "  y_train.append(training_set_scaled[i, 0])\n",
        "X_train, y_train = np.array(X_train), np.array(y_train)"
      ],
      "execution_count": 12,
      "outputs": []
    },
    {
      "cell_type": "code",
      "metadata": {
        "id": "3561YAaLqxhg",
        "colab_type": "code",
        "colab": {}
      },
      "source": [
        "X_train = np.reshape(X_train, (X_train.shape[0], X_train.shape[1], 1)) #3차원으로 바꿔야함"
      ],
      "execution_count": 13,
      "outputs": []
    },
    {
      "cell_type": "code",
      "metadata": {
        "id": "Wi-Qr1IjrOkF",
        "colab_type": "code",
        "colab": {
          "base_uri": "https://localhost:8080/",
          "height": 1000
        },
        "outputId": "0531e699-7102-4800-eec7-2f229cbfe7d6"
      },
      "source": [
        "#\n",
        "regressor = Sequential()\n",
        "regressor.add(LSTM(units=50, return_sequences=True, input_shape=(X_train.shape[1], 1)))\n",
        "regressor.add(Dropout(0.2))\n",
        "\n",
        "regressor.add(LSTM(units=50, return_sequences=True))\n",
        "regressor.add(Dropout(0.2))\n",
        "\n",
        "regressor.add(LSTM(units=50, return_sequences=True))\n",
        "regressor.add(Dropout(0.2))\n",
        "\n",
        "regressor.add(LSTM(units=50))\n",
        "regressor.add(Dropout(0.2))\n",
        "\n",
        "regressor.add(Dense(units=1))\n",
        "\n",
        "regressor.compile(optimizer='rmsprop', loss='mean_squared_error')\n",
        "\n",
        "regressor.fit(X_train, y_train, epochs=50, batch_size=32)"
      ],
      "execution_count": 34,
      "outputs": [
        {
          "output_type": "stream",
          "text": [
            "Epoch 1/50\n",
            "2709/2709 [==============================] - 14s 5ms/step - loss: 0.0254\n",
            "Epoch 2/50\n",
            "2709/2709 [==============================] - 12s 4ms/step - loss: 0.0108\n",
            "Epoch 3/50\n",
            "2709/2709 [==============================] - 12s 4ms/step - loss: 0.0083\n",
            "Epoch 4/50\n",
            "2709/2709 [==============================] - 12s 4ms/step - loss: 0.0072\n",
            "Epoch 5/50\n",
            "2709/2709 [==============================] - 12s 4ms/step - loss: 0.0067\n",
            "Epoch 6/50\n",
            "2709/2709 [==============================] - 12s 4ms/step - loss: 0.0052\n",
            "Epoch 7/50\n",
            "2709/2709 [==============================] - 12s 5ms/step - loss: 0.0049\n",
            "Epoch 8/50\n",
            "2709/2709 [==============================] - 12s 4ms/step - loss: 0.0045\n",
            "Epoch 9/50\n",
            "2709/2709 [==============================] - 12s 4ms/step - loss: 0.0043\n",
            "Epoch 10/50\n",
            "2709/2709 [==============================] - 12s 5ms/step - loss: 0.0038\n",
            "Epoch 11/50\n",
            "2709/2709 [==============================] - 13s 5ms/step - loss: 0.0038\n",
            "Epoch 12/50\n",
            "2709/2709 [==============================] - 12s 5ms/step - loss: 0.0035\n",
            "Epoch 13/50\n",
            "2709/2709 [==============================] - 12s 4ms/step - loss: 0.0033\n",
            "Epoch 14/50\n",
            "2709/2709 [==============================] - 12s 4ms/step - loss: 0.0033\n",
            "Epoch 15/50\n",
            "2709/2709 [==============================] - 12s 4ms/step - loss: 0.0029\n",
            "Epoch 16/50\n",
            "2709/2709 [==============================] - 12s 4ms/step - loss: 0.0029\n",
            "Epoch 17/50\n",
            "2709/2709 [==============================] - 12s 4ms/step - loss: 0.0029\n",
            "Epoch 18/50\n",
            "2709/2709 [==============================] - 12s 4ms/step - loss: 0.0027\n",
            "Epoch 19/50\n",
            "2709/2709 [==============================] - 12s 4ms/step - loss: 0.0027\n",
            "Epoch 20/50\n",
            "2709/2709 [==============================] - 12s 4ms/step - loss: 0.0025\n",
            "Epoch 21/50\n",
            "2709/2709 [==============================] - 12s 4ms/step - loss: 0.0024\n",
            "Epoch 22/50\n",
            "2709/2709 [==============================] - 12s 4ms/step - loss: 0.0023\n",
            "Epoch 23/50\n",
            "2709/2709 [==============================] - 12s 4ms/step - loss: 0.0023\n",
            "Epoch 24/50\n",
            "2709/2709 [==============================] - 12s 4ms/step - loss: 0.0021\n",
            "Epoch 25/50\n",
            "2709/2709 [==============================] - 12s 4ms/step - loss: 0.0022\n",
            "Epoch 26/50\n",
            "2709/2709 [==============================] - 12s 4ms/step - loss: 0.0021\n",
            "Epoch 27/50\n",
            "2709/2709 [==============================] - 12s 4ms/step - loss: 0.0021\n",
            "Epoch 28/50\n",
            "2709/2709 [==============================] - 12s 4ms/step - loss: 0.0019\n",
            "Epoch 29/50\n",
            "2709/2709 [==============================] - 12s 4ms/step - loss: 0.0019\n",
            "Epoch 30/50\n",
            "2709/2709 [==============================] - 12s 4ms/step - loss: 0.0020\n",
            "Epoch 31/50\n",
            "2709/2709 [==============================] - 12s 4ms/step - loss: 0.0019\n",
            "Epoch 32/50\n",
            "2709/2709 [==============================] - 12s 4ms/step - loss: 0.0018\n",
            "Epoch 33/50\n",
            "2709/2709 [==============================] - 12s 5ms/step - loss: 0.0018\n",
            "Epoch 34/50\n",
            "2709/2709 [==============================] - 12s 4ms/step - loss: 0.0018\n",
            "Epoch 35/50\n",
            "2709/2709 [==============================] - 12s 4ms/step - loss: 0.0018\n",
            "Epoch 36/50\n",
            "2709/2709 [==============================] - 12s 4ms/step - loss: 0.0018\n",
            "Epoch 37/50\n",
            "2709/2709 [==============================] - 12s 5ms/step - loss: 0.0018\n",
            "Epoch 38/50\n",
            "2709/2709 [==============================] - 12s 4ms/step - loss: 0.0017\n",
            "Epoch 39/50\n",
            "2709/2709 [==============================] - 12s 4ms/step - loss: 0.0017\n",
            "Epoch 40/50\n",
            "2709/2709 [==============================] - 12s 4ms/step - loss: 0.0016\n",
            "Epoch 41/50\n",
            "2709/2709 [==============================] - 12s 4ms/step - loss: 0.0016\n",
            "Epoch 42/50\n",
            "2709/2709 [==============================] - 12s 4ms/step - loss: 0.0016\n",
            "Epoch 43/50\n",
            "2709/2709 [==============================] - 12s 4ms/step - loss: 0.0016\n",
            "Epoch 44/50\n",
            "2709/2709 [==============================] - 12s 4ms/step - loss: 0.0015\n",
            "Epoch 45/50\n",
            "2709/2709 [==============================] - 12s 4ms/step - loss: 0.0015\n",
            "Epoch 46/50\n",
            "2709/2709 [==============================] - 12s 4ms/step - loss: 0.0015\n",
            "Epoch 47/50\n",
            "2709/2709 [==============================] - 12s 4ms/step - loss: 0.0015\n",
            "Epoch 48/50\n",
            "2709/2709 [==============================] - 12s 4ms/step - loss: 0.0015\n",
            "Epoch 49/50\n",
            "2709/2709 [==============================] - 12s 4ms/step - loss: 0.0014\n",
            "Epoch 50/50\n",
            "2709/2709 [==============================] - 12s 4ms/step - loss: 0.0014\n"
          ],
          "name": "stdout"
        },
        {
          "output_type": "execute_result",
          "data": {
            "text/plain": [
              "<keras.callbacks.callbacks.History at 0x7f2f2ca36e10>"
            ]
          },
          "metadata": {
            "tags": []
          },
          "execution_count": 34
        }
      ]
    },
    {
      "cell_type": "code",
      "metadata": {
        "id": "ri8mt6jCszKq",
        "colab_type": "code",
        "colab": {}
      },
      "source": [
        "dataset_total = pd.concat((dataset['High'][:'2016'], dataset['High']['2017':]), axis=0)\n",
        "inputs = dataset_total[len(dataset_total)-len(test_set)- 60:].values\n",
        "inputs = inputs.reshape(-1, 1)\n",
        "inputs = sc.transform(inputs)"
      ],
      "execution_count": 37,
      "outputs": []
    },
    {
      "cell_type": "code",
      "metadata": {
        "id": "B7cL8mLx0XUZ",
        "colab_type": "code",
        "colab": {}
      },
      "source": [
        "X_test = []\n",
        "for i in range(60, 311):\n",
        "  X_test.append(inputs[i-60:i, 0])\n",
        "X_test = np.array(X_test)\n",
        "X_test = np.reshape(X_test, (X_test.shape[0], X_test.shape[1], 1))\n",
        "\n",
        "predicted_stock_price = regressor.predict(X_test)\n",
        "predicted_stock_price = sc.inverse_transform(predicted_stock_price)"
      ],
      "execution_count": 38,
      "outputs": []
    },
    {
      "cell_type": "code",
      "metadata": {
        "id": "ocY1sx1u1u0p",
        "colab_type": "code",
        "colab": {
          "base_uri": "https://localhost:8080/",
          "height": 295
        },
        "outputId": "409ddf80-ce7a-4459-c71b-fd25a1a3e449"
      },
      "source": [
        "plot_predictions(test_set, predicted_stock_price)"
      ],
      "execution_count": 43,
      "outputs": [
        {
          "output_type": "display_data",
          "data": {
            "image/png": "[encoded data removed]",
            "text/plain": [
              "<Figure size 432x288 with 1 Axes>"
            ]
          },
          "metadata": {
            "tags": [],
            "needs_background": "light"
          }
        }
      ]
    },
    {
      "cell_type": "code",
      "metadata": {
        "id": "qL8QDy0V2wFm",
        "colab_type": "code",
        "colab": {
          "base_uri": "https://localhost:8080/",
          "height": 34
        },
        "outputId": "fe18e9b9-b7ca-4c21-d3ef-ba86d7685a35"
      },
      "source": [
        "return_rmse(test_set, predicted_stock_price)"
      ],
      "execution_count": 44,
      "outputs": [
        {
          "output_type": "stream",
          "text": [
            "The root mean squared error is 3.2413835354359115\n"
          ],
          "name": "stdout"
        }
      ]
    },
    {
      "cell_type": "markdown",
      "metadata": {
        "id": "2cqQs8i_30ZA",
        "colab_type": "text"
      },
      "source": [
        "# GRU"
      ]
    },
    {
      "cell_type": "code",
      "metadata": {
        "id": "q6WPzd043kCM",
        "colab_type": "code",
        "colab": {}
      },
      "source": [
        "regressorGRU = Sequential()\n",
        "regressorGRU.add(GRU(units=50, return_sequences=True, input_shape=(X_train.shape[1], 1), activation='tanh'))\n",
        "regressorGRU.add(Dropout(0.2))\n",
        "\n",
        "regressorGRU.add(GRU(units=50, return_sequences=True, input_shape=(X_train.shape[1], 1), activation='tanh'))\n",
        "regressorGRU.add(Dropout(0.2))\n",
        "\n",
        "regressorGRU.add(GRU(units=50, return_sequences=True, input_shape=(X_train.shape[1], 1), activation='tanh'))\n",
        "regressorGRU.add(Dropout(0.2))\n",
        "\n",
        "regressorGRU.add(GRU(units=50, activation='tanh'))\n",
        "regressorGRU.add(Dropout(0.2))\n",
        "\n",
        "regressorGRU.add(Dense(units=1))\n",
        "\n",
        "regressorGRU.compile(optimizer=SGD(learning_rate=0.01, decay=1e-7, momentum=0.9, nesterov=False), loss='mean_squared_error')"
      ],
      "execution_count": 46,
      "outputs": []
    },
    {
      "cell_type": "code",
      "metadata": {
        "id": "IcoSW6G64m_L",
        "colab_type": "code",
        "colab": {
          "base_uri": "https://localhost:8080/",
          "height": 1000
        },
        "outputId": "d680fe66-bfec-4709-af9a-e432021ac9a9"
      },
      "source": [
        "regressorGRU.fit(X_train, y_train, epochs=50, batch_size=150)"
      ],
      "execution_count": 47,
      "outputs": [
        {
          "output_type": "stream",
          "text": [
            "Epoch 1/50\n",
            "2709/2709 [==============================] - 8s 3ms/step - loss: 0.1171\n",
            "Epoch 2/50\n",
            "2709/2709 [==============================] - 7s 2ms/step - loss: 0.0432\n",
            "Epoch 3/50\n",
            "2709/2709 [==============================] - 7s 2ms/step - loss: 0.0141\n",
            "Epoch 4/50\n",
            "2709/2709 [==============================] - 7s 2ms/step - loss: 0.0052\n",
            "Epoch 5/50\n",
            "2709/2709 [==============================] - 7s 2ms/step - loss: 0.0046\n",
            "Epoch 6/50\n",
            "2709/2709 [==============================] - 7s 2ms/step - loss: 0.0041\n",
            "Epoch 7/50\n",
            "2709/2709 [==============================] - 7s 2ms/step - loss: 0.0038\n",
            "Epoch 8/50\n",
            "2709/2709 [==============================] - 7s 2ms/step - loss: 0.0035\n",
            "Epoch 9/50\n",
            "2709/2709 [==============================] - 7s 2ms/step - loss: 0.0034\n",
            "Epoch 10/50\n",
            "2709/2709 [==============================] - 7s 2ms/step - loss: 0.0033\n",
            "Epoch 11/50\n",
            "2709/2709 [==============================] - 7s 2ms/step - loss: 0.0032\n",
            "Epoch 12/50\n",
            "2709/2709 [==============================] - 7s 2ms/step - loss: 0.0032\n",
            "Epoch 13/50\n",
            "2709/2709 [==============================] - 7s 2ms/step - loss: 0.0031\n",
            "Epoch 14/50\n",
            "2709/2709 [==============================] - 7s 2ms/step - loss: 0.0030\n",
            "Epoch 15/50\n",
            "2709/2709 [==============================] - 7s 3ms/step - loss: 0.0030\n",
            "Epoch 16/50\n",
            "2709/2709 [==============================] - 7s 3ms/step - loss: 0.0029\n",
            "Epoch 17/50\n",
            "2709/2709 [==============================] - 7s 2ms/step - loss: 0.0028\n",
            "Epoch 18/50\n",
            "2709/2709 [==============================] - 7s 2ms/step - loss: 0.0027\n",
            "Epoch 19/50\n",
            "2709/2709 [==============================] - 7s 2ms/step - loss: 0.0028\n",
            "Epoch 20/50\n",
            "2709/2709 [==============================] - 7s 2ms/step - loss: 0.0027\n",
            "Epoch 21/50\n",
            "2709/2709 [==============================] - 7s 2ms/step - loss: 0.0027\n",
            "Epoch 22/50\n",
            "2709/2709 [==============================] - 7s 2ms/step - loss: 0.0026\n",
            "Epoch 23/50\n",
            "2709/2709 [==============================] - 7s 2ms/step - loss: 0.0026\n",
            "Epoch 24/50\n",
            "2709/2709 [==============================] - 7s 2ms/step - loss: 0.0027\n",
            "Epoch 25/50\n",
            "2709/2709 [==============================] - 7s 2ms/step - loss: 0.0025\n",
            "Epoch 26/50\n",
            "2709/2709 [==============================] - 7s 2ms/step - loss: 0.0028\n",
            "Epoch 27/50\n",
            "2709/2709 [==============================] - 7s 2ms/step - loss: 0.0025\n",
            "Epoch 28/50\n",
            "2709/2709 [==============================] - 7s 2ms/step - loss: 0.0025\n",
            "Epoch 29/50\n",
            "2709/2709 [==============================] - 7s 2ms/step - loss: 0.0024\n",
            "Epoch 30/50\n",
            "2709/2709 [==============================] - 7s 2ms/step - loss: 0.0024\n",
            "Epoch 31/50\n",
            "2709/2709 [==============================] - 7s 2ms/step - loss: 0.0024\n",
            "Epoch 32/50\n",
            "2709/2709 [==============================] - 7s 2ms/step - loss: 0.0023\n",
            "Epoch 33/50\n",
            "2709/2709 [==============================] - 7s 2ms/step - loss: 0.0024\n",
            "Epoch 34/50\n",
            "2709/2709 [==============================] - 7s 2ms/step - loss: 0.0022\n",
            "Epoch 35/50\n",
            "2709/2709 [==============================] - 7s 2ms/step - loss: 0.0023\n",
            "Epoch 36/50\n",
            "2709/2709 [==============================] - 7s 2ms/step - loss: 0.0023\n",
            "Epoch 37/50\n",
            "2709/2709 [==============================] - 7s 2ms/step - loss: 0.0021\n",
            "Epoch 38/50\n",
            "2709/2709 [==============================] - 7s 3ms/step - loss: 0.0022\n",
            "Epoch 39/50\n",
            "2709/2709 [==============================] - 7s 3ms/step - loss: 0.0023\n",
            "Epoch 40/50\n",
            "2709/2709 [==============================] - 7s 3ms/step - loss: 0.0022\n",
            "Epoch 41/50\n",
            "2709/2709 [==============================] - 7s 2ms/step - loss: 0.0022\n",
            "Epoch 42/50\n",
            "2709/2709 [==============================] - 6s 2ms/step - loss: 0.0023\n",
            "Epoch 43/50\n",
            "2709/2709 [==============================] - 6s 2ms/step - loss: 0.0023\n",
            "Epoch 44/50\n",
            "2709/2709 [==============================] - 6s 2ms/step - loss: 0.0021\n",
            "Epoch 45/50\n",
            "2709/2709 [==============================] - 6s 2ms/step - loss: 0.0022\n",
            "Epoch 46/50\n",
            "2709/2709 [==============================] - 7s 2ms/step - loss: 0.0021\n",
            "Epoch 47/50\n",
            "2709/2709 [==============================] - 6s 2ms/step - loss: 0.0021\n",
            "Epoch 48/50\n",
            "2709/2709 [==============================] - 7s 2ms/step - loss: 0.0021\n",
            "Epoch 49/50\n",
            "2709/2709 [==============================] - 6s 2ms/step - loss: 0.0024\n",
            "Epoch 50/50\n",
            "2709/2709 [==============================] - 6s 2ms/step - loss: 0.0022\n"
          ],
          "name": "stdout"
        },
        {
          "output_type": "execute_result",
          "data": {
            "text/plain": [
              "<keras.callbacks.callbacks.History at 0x7f2eb35f1320>"
            ]
          },
          "metadata": {
            "tags": []
          },
          "execution_count": 47
        }
      ]
    },
    {
      "cell_type": "code",
      "metadata": {
        "id": "1DleqdWa681A",
        "colab_type": "code",
        "colab": {}
      },
      "source": [
        "X_test = []\n",
        "for i in range(60, 311):\n",
        "  X_test.append(inputs[i-60:i, 0])\n",
        "X_test = np.array(X_test)\n",
        "X_test = np.reshape(X_test, (X_test.shape[0], X_test.shape[1], 1))\n",
        "\n",
        "GRU_predicted_stock_price = regressorGRU.predict(X_test)\n",
        "GRU_predicted_stock_price = sc.inverse_transform(GRU_predicted_stock_price)"
      ],
      "execution_count": 49,
      "outputs": []
    },
    {
      "cell_type": "code",
      "metadata": {
        "id": "FM5stRVp8Pix",
        "colab_type": "code",
        "colab": {
          "base_uri": "https://localhost:8080/",
          "height": 295
        },
        "outputId": "727af2f7-f0f7-4606-8fe0-0a1312a9c515"
      },
      "source": [
        "plot_predictions(test_set, GRU_predicted_stock_price)"
      ],
      "execution_count": 50,
      "outputs": [
        {
          "output_type": "display_data",
          "data": {
            "image/png": "[encoded data removed]",
            "text/plain": [
              "<Figure size 432x288 with 1 Axes>"
            ]
          },
          "metadata": {
            "tags": [],
            "needs_background": "light"
          }
        }
      ]
    },
    {
      "cell_type": "code",
      "metadata": {
        "id": "gKOAUAE78axB",
        "colab_type": "code",
        "colab": {}
      },
      "source": [
        "#곡선의 트렌드\n",
        "initial_sequence = X_train[2708,:]\n",
        "sequence = []\n",
        "for i in range(251):\n",
        "  new_prediction = regressorGRU.predict(initial_sequence.reshape(initial_sequence.shape[1], initial_sequence.shape[0], 1))\n",
        "  initial_sequence = initial_sequence[1:]\n",
        "  initial_sequence = np.append(initial_sequence, new_prediction, axis=0)\n",
        "  sequence.append(new_prediction)\n",
        "sequence = sc.inverse_transform(np.array(sequence).reshape(251, 1))"
      ],
      "execution_count": 59,
      "outputs": []
    },
    {
      "cell_type": "code",
      "metadata": {
        "id": "pEFlhczG-sZs",
        "colab_type": "code",
        "colab": {
          "base_uri": "https://localhost:8080/",
          "height": 295
        },
        "outputId": "85ac6012-e6de-41c9-de3a-e5ac82db3629"
      },
      "source": [
        "plot_predictions(test_set, sequence)"
      ],
      "execution_count": 60,
      "outputs": [
        {
          "output_type": "display_data",
          "data": {
            "image/png": "[encoded data removed]",
            "text/plain": [
              "<Figure size 432x288 with 1 Axes>"
            ]
          },
          "metadata": {
            "tags": [],
            "needs_background": "light"
          }
        }
      ]
    },
    {
      "cell_type": "code",
      "metadata": {
        "id": "VRqPk7SA-y1g",
        "colab_type": "code",
        "colab": {
          "base_uri": "https://localhost:8080/",
          "height": 34
        },
        "outputId": "0eae0092-8b5b-42d8-b2b9-b308158d08b2"
      },
      "source": [
        "return_rmse(test_set, sequence)"
      ],
      "execution_count": 61,
      "outputs": [
        {
          "output_type": "stream",
          "text": [
            "The root mean squared error is 15.181430794464868\n"
          ],
          "name": "stdout"
        }
      ]
    },
    {
      "cell_type": "code",
      "metadata": {
        "id": "eNkhgni4_F3L",
        "colab_type": "code",
        "colab": {}
      },
      "source": [
        ""
      ],
      "execution_count": null,
      "outputs": []
    }
  ]
}