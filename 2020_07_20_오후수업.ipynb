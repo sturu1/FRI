{
  "nbformat": 4,
  "nbformat_minor": 0,
  "metadata": {
    "colab": {
      "name": "2020_07_20_오후수업.ipynb",
      "provenance": [],
      "toc_visible": true,
      "mount_file_id": "1lBFH-fZ1jiqekaVOctsoXYalDZ6sr65H",
      "authorship_tag": "ABX9TyOHn/dcHSSCXInpK3PaensJ",
      "include_colab_link": true
    },
    "kernelspec": {
      "name": "python3",
      "display_name": "Python 3"
    }
  },
  "cells": [
    {
      "cell_type": "markdown",
      "metadata": {
        "id": "view-in-github",
        "colab_type": "text"
      },
      "source": [
        "<a href=\"https://colab.research.google.com/github/sturu1/FRI/blob/master/2020_07_20_%EC%98%A4%ED%9B%84%EC%88%98%EC%97%85.ipynb\" target=\"_parent\"><img src=\"https://colab.research.google.com/assets/colab-badge.svg\" alt=\"Open In Colab\"/></a>"
      ]
    },
    {
      "cell_type": "code",
      "metadata": {
        "id": "L1EY9klqnJ_y",
        "colab_type": "code",
        "colab": {}
      },
      "source": [
        "import numpy as np\n",
        "import matplotlib.pyplot as plt\n",
        "#plt.style.use('fivethirteight')\n",
        "import pandas as pd\n",
        "from sklearn.preprocessing import MinMaxScaler\n",
        "from keras.models import Sequential\n",
        "from keras.layers import Dense, LSTM, GRU, Bidirectional, Dropout\n",
        "from keras.optimizers import SGD\n",
        "import math\n",
        "from sklearn.metrics import mean_squared_error"
      ],
      "execution_count": 18,
      "outputs": []
    },
    {
      "cell_type": "code",
      "metadata": {
        "id": "7hy9sYTfnKqu",
        "colab_type": "code",
        "colab": {}
      },
      "source": [
        "#포맷 세팅이 중요 계속 사용하기때문에\n",
        "def plot_predictions(test, predicted):\n",
        "  plt.plot(test, color = 'red', label='Real IBM Stock Price')\n",
        "  plt.plot(predicted, color='blue', label='Predicted IBM Stock Price')\n",
        "  plt.title('IBM Stock Price Prediction')\n",
        "  plt.xlabel('Time')\n",
        "  plt.ylabel('IBM Stock Price')\n",
        "  plt.legend()\n",
        "  plt.show()"
      ],
      "execution_count": 19,
      "outputs": []
    },
    {
      "cell_type": "code",
      "metadata": {
        "id": "gmVo9KTunNNM",
        "colab_type": "code",
        "colab": {}
      },
      "source": [
        "#숫자로\n",
        "def return_rmse(test, predicted):\n",
        "  rmse = math.sqrt(mean_squared_error(test, predicted))\n",
        "  print('The root mean squared error is {}'.format(rmse))"
      ],
      "execution_count": 20,
      "outputs": []
    },
    {
      "cell_type": "code",
      "metadata": {
        "id": "B-NhxzmCnNcI",
        "colab_type": "code",
        "colab": {
          "base_uri": "https://localhost:8080/",
          "height": 235
        },
        "outputId": "1cfa0a64-2d64-499f-8792-1fdfafdae63e"
      },
      "source": [
        "#드라이브 마운드 하기\n",
        "dataset = pd.read_csv('/content/IBM_2006-01-01_to_2018-01-01.csv', index_col = 'Date', parse_dates= ['Date'])\n",
        "dataset.head()"
      ],
      "execution_count": 21,
      "outputs": [
        {
          "output_type": "execute_result",
          "data": {
            "text/html": [
              "<div>\n",
              "<style scoped>\n",
              "    .dataframe tbody tr th:only-of-type {\n",
              "        vertical-align: middle;\n",
              "    }\n",
              "\n",
              "    .dataframe tbody tr th {\n",
              "        vertical-align: top;\n",
              "    }\n",
              "\n",
              "    .dataframe thead th {\n",
              "        text-align: right;\n",
              "    }\n",
              "</style>\n",
              "<table border=\"1\" class=\"dataframe\">\n",
              "  <thead>\n",
              "    <tr style=\"text-align: right;\">\n",
              "      <th></th>\n",
              "      <th>Open</th>\n",
              "      <th>High</th>\n",
              "      <th>Low</th>\n",
              "      <th>Close</th>\n",
              "      <th>Volume</th>\n",
              "      <th>Name</th>\n",
              "    </tr>\n",
              "    <tr>\n",
              "      <th>Date</th>\n",
              "      <th></th>\n",
              "      <th></th>\n",
              "      <th></th>\n",
              "      <th></th>\n",
              "      <th></th>\n",
              "      <th></th>\n",
              "    </tr>\n",
              "  </thead>\n",
              "  <tbody>\n",
              "    <tr>\n",
              "      <th>2006-01-03</th>\n",
              "      <td>82.45</td>\n",
              "      <td>82.55</td>\n",
              "      <td>80.81</td>\n",
              "      <td>82.06</td>\n",
              "      <td>11715200</td>\n",
              "      <td>IBM</td>\n",
              "    </tr>\n",
              "    <tr>\n",
              "      <th>2006-01-04</th>\n",
              "      <td>82.20</td>\n",
              "      <td>82.50</td>\n",
              "      <td>81.33</td>\n",
              "      <td>81.95</td>\n",
              "      <td>9840600</td>\n",
              "      <td>IBM</td>\n",
              "    </tr>\n",
              "    <tr>\n",
              "      <th>2006-01-05</th>\n",
              "      <td>81.40</td>\n",
              "      <td>82.90</td>\n",
              "      <td>81.00</td>\n",
              "      <td>82.50</td>\n",
              "      <td>7213500</td>\n",
              "      <td>IBM</td>\n",
              "    </tr>\n",
              "    <tr>\n",
              "      <th>2006-01-06</th>\n",
              "      <td>83.95</td>\n",
              "      <td>85.03</td>\n",
              "      <td>83.41</td>\n",
              "      <td>84.95</td>\n",
              "      <td>8197400</td>\n",
              "      <td>IBM</td>\n",
              "    </tr>\n",
              "    <tr>\n",
              "      <th>2006-01-09</th>\n",
              "      <td>84.10</td>\n",
              "      <td>84.25</td>\n",
              "      <td>83.38</td>\n",
              "      <td>83.73</td>\n",
              "      <td>6858200</td>\n",
              "      <td>IBM</td>\n",
              "    </tr>\n",
              "  </tbody>\n",
              "</table>\n",
              "</div>"
            ],
            "text/plain": [
              "             Open   High    Low  Close    Volume Name\n",
              "Date                                                 \n",
              "2006-01-03  82.45  82.55  80.81  82.06  11715200  IBM\n",
              "2006-01-04  82.20  82.50  81.33  81.95   9840600  IBM\n",
              "2006-01-05  81.40  82.90  81.00  82.50   7213500  IBM\n",
              "2006-01-06  83.95  85.03  83.41  84.95   8197400  IBM\n",
              "2006-01-09  84.10  84.25  83.38  83.73   6858200  IBM"
            ]
          },
          "metadata": {
            "tags": []
          },
          "execution_count": 21
        }
      ]
    },
    {
      "cell_type": "code",
      "metadata": {
        "id": "VePVUaW8nOgW",
        "colab_type": "code",
        "colab": {}
      },
      "source": [
        "training_set = dataset[: '2016'].iloc[:, 1:2].values\n",
        "test_set = dataset['2017':].iloc[:, 1:2].values"
      ],
      "execution_count": 22,
      "outputs": []
    },
    {
      "cell_type": "code",
      "metadata": {
        "id": "w3pZDqRIpwcb",
        "colab_type": "code",
        "colab": {
          "base_uri": "https://localhost:8080/",
          "height": 35
        },
        "outputId": "7d3eb288-45d1-4a0c-deb8-e40c2fcdd3b4"
      },
      "source": [
        "training_set.shape"
      ],
      "execution_count": 23,
      "outputs": [
        {
          "output_type": "execute_result",
          "data": {
            "text/plain": [
              "(2769, 1)"
            ]
          },
          "metadata": {
            "tags": []
          },
          "execution_count": 23
        }
      ]
    },
    {
      "cell_type": "code",
      "metadata": {
        "id": "0DPkgNqLpxRq",
        "colab_type": "code",
        "colab": {
          "base_uri": "https://localhost:8080/",
          "height": 35
        },
        "outputId": "14e3a03e-cba3-491a-b157-9190cf3c45e2"
      },
      "source": [
        "test_set.shape"
      ],
      "execution_count": 24,
      "outputs": [
        {
          "output_type": "execute_result",
          "data": {
            "text/plain": [
              "(251, 1)"
            ]
          },
          "metadata": {
            "tags": []
          },
          "execution_count": 24
        }
      ]
    },
    {
      "cell_type": "code",
      "metadata": {
        "id": "Fs3JxpbzpyLx",
        "colab_type": "code",
        "colab": {
          "base_uri": "https://localhost:8080/",
          "height": 197
        },
        "outputId": "09dcf231-7977-4bf5-aa2f-e06100c75bec"
      },
      "source": [
        "dataset['High'][:'2016'].plot(figsize=(16, 4), legend=True)\n",
        "dataset['High']['2017':].plot(figsize=(16, 4), legend=True)\n",
        "\n",
        "plt.legend(['Training set', 'Test set'])\n",
        "plt.title('IBM Stock Price')\n",
        "plt.show()"
      ],
      "execution_count": 25,
      "outputs": [
        {
          "output_type": "display_data",
          "data": {
            "image/png": "[encoded data removed]",
            "text/plain": [
              "<Figure size 1152x288 with 1 Axes>"
            ]
          },
          "metadata": {
            "tags": [],
            "needs_background": "light"
          }
        }
      ]
    },
    {
      "cell_type": "code",
      "metadata": {
        "id": "Zo-m7VzzpzOI",
        "colab_type": "code",
        "colab": {}
      },
      "source": [
        "#sc이 중요\n",
        "sc = MinMaxScaler(feature_range=(0,1))\n",
        "training_set_scaled = sc.fit_transform(training_set)"
      ],
      "execution_count": 26,
      "outputs": []
    },
    {
      "cell_type": "code",
      "metadata": {
        "id": "FQiw1WrNp0kS",
        "colab_type": "code",
        "colab": {}
      },
      "source": [
        "X_train = [] #데이터 묶음이라서 X는 대문자임\n",
        "y_train = [] #y는 데이터 하나라서 소문자임\n",
        "for i in range(60, 2769):\n",
        "  X_train.append(training_set_scaled[i-60:i, 0])\n",
        "  y_train.append(training_set_scaled[i, 0])\n",
        "X_train, y_train = np.array(X_train), np.array(y_train)"
      ],
      "execution_count": 27,
      "outputs": []
    },
    {
      "cell_type": "code",
      "metadata": {
        "id": "3561YAaLqxhg",
        "colab_type": "code",
        "colab": {}
      },
      "source": [
        "X_train = np.reshape(X_train, (X_train.shape[0], X_train.shape[1], 1)) #3차원으로 바꿔야함"
      ],
      "execution_count": 28,
      "outputs": []
    },
    {
      "cell_type": "code",
      "metadata": {
        "id": "Wi-Qr1IjrOkF",
        "colab_type": "code",
        "colab": {
          "base_uri": "https://localhost:8080/",
          "height": 1000
        },
        "outputId": "d3d6cfc3-a587-49c1-b49e-c0f735c60cdc"
      },
      "source": [
        "#\n",
        "regressor = Sequential()\n",
        "regressor.add(LSTM(units=50, return_sequences=True, input_shape=(X_train.shape[1], 1)))\n",
        "regressor.add(Dropout(0.2))\n",
        "\n",
        "regressor.add(LSTM(units=50, return_sequences=True))\n",
        "regressor.add(Dropout(0.2))\n",
        "\n",
        "regressor.add(LSTM(units=50, return_sequences=True))\n",
        "regressor.add(Dropout(0.2))\n",
        "\n",
        "regressor.add(LSTM(units=50))\n",
        "regressor.add(Dropout(0.2))\n",
        "\n",
        "regressor.add(Dense(units=1))\n",
        "\n",
        "regressor.compile(optimizer='rmsprop', loss='mean_squared_error')\n",
        "\n",
        "regressor.fit(X_train, y_train, epochs=50, batch_size=32)"
      ],
      "execution_count": 29,
      "outputs": [
        {
          "output_type": "stream",
          "text": [
            "Epoch 1/50\n",
            "2709/2709 [==============================] - 13s 5ms/step - loss: 0.0229\n",
            "Epoch 2/50\n",
            "2709/2709 [==============================] - 12s 4ms/step - loss: 0.0107\n",
            "Epoch 3/50\n",
            "2709/2709 [==============================] - 11s 4ms/step - loss: 0.0081\n",
            "Epoch 4/50\n",
            "2709/2709 [==============================] - 11s 4ms/step - loss: 0.0075\n",
            "Epoch 5/50\n",
            "2709/2709 [==============================] - 11s 4ms/step - loss: 0.0062\n",
            "Epoch 6/50\n",
            "2709/2709 [==============================] - 12s 4ms/step - loss: 0.0056\n",
            "Epoch 7/50\n",
            "2709/2709 [==============================] - 12s 4ms/step - loss: 0.0051\n",
            "Epoch 8/50\n",
            "2709/2709 [==============================] - 12s 4ms/step - loss: 0.0046\n",
            "Epoch 9/50\n",
            "2709/2709 [==============================] - 11s 4ms/step - loss: 0.0041\n",
            "Epoch 10/50\n",
            "2709/2709 [==============================] - 12s 4ms/step - loss: 0.0039\n",
            "Epoch 11/50\n",
            "2709/2709 [==============================] - 12s 4ms/step - loss: 0.0036\n",
            "Epoch 12/50\n",
            "2709/2709 [==============================] - 12s 4ms/step - loss: 0.0036\n",
            "Epoch 13/50\n",
            "2709/2709 [==============================] - 12s 4ms/step - loss: 0.0033\n",
            "Epoch 14/50\n",
            "2709/2709 [==============================] - 12s 4ms/step - loss: 0.0032\n",
            "Epoch 15/50\n",
            "2709/2709 [==============================] - 12s 4ms/step - loss: 0.0030\n",
            "Epoch 16/50\n",
            "2709/2709 [==============================] - 12s 4ms/step - loss: 0.0031\n",
            "Epoch 17/50\n",
            "2709/2709 [==============================] - 12s 4ms/step - loss: 0.0029\n",
            "Epoch 18/50\n",
            "2709/2709 [==============================] - 12s 4ms/step - loss: 0.0028\n",
            "Epoch 19/50\n",
            "2709/2709 [==============================] - 12s 4ms/step - loss: 0.0026\n",
            "Epoch 20/50\n",
            "2709/2709 [==============================] - 12s 4ms/step - loss: 0.0025\n",
            "Epoch 21/50\n",
            "2709/2709 [==============================] - 12s 4ms/step - loss: 0.0024\n",
            "Epoch 22/50\n",
            "2709/2709 [==============================] - 12s 4ms/step - loss: 0.0025\n",
            "Epoch 23/50\n",
            "2709/2709 [==============================] - 12s 4ms/step - loss: 0.0022\n",
            "Epoch 24/50\n",
            "2709/2709 [==============================] - 12s 4ms/step - loss: 0.0021\n",
            "Epoch 25/50\n",
            "2709/2709 [==============================] - 12s 4ms/step - loss: 0.0022\n",
            "Epoch 26/50\n",
            "2709/2709 [==============================] - 12s 4ms/step - loss: 0.0022\n",
            "Epoch 27/50\n",
            "2709/2709 [==============================] - 12s 4ms/step - loss: 0.0020\n",
            "Epoch 28/50\n",
            "2709/2709 [==============================] - 12s 4ms/step - loss: 0.0022\n",
            "Epoch 29/50\n",
            "2709/2709 [==============================] - 12s 4ms/step - loss: 0.0019\n",
            "Epoch 30/50\n",
            "2709/2709 [==============================] - 12s 4ms/step - loss: 0.0020\n",
            "Epoch 31/50\n",
            "2709/2709 [==============================] - 12s 4ms/step - loss: 0.0018\n",
            "Epoch 32/50\n",
            "2709/2709 [==============================] - 12s 4ms/step - loss: 0.0019\n",
            "Epoch 33/50\n",
            "2709/2709 [==============================] - 12s 4ms/step - loss: 0.0019\n",
            "Epoch 34/50\n",
            "2709/2709 [==============================] - 12s 4ms/step - loss: 0.0018\n",
            "Epoch 35/50\n",
            "2709/2709 [==============================] - 12s 4ms/step - loss: 0.0017\n",
            "Epoch 36/50\n",
            "2709/2709 [==============================] - 12s 4ms/step - loss: 0.0017\n",
            "Epoch 37/50\n",
            "2709/2709 [==============================] - 12s 4ms/step - loss: 0.0018\n",
            "Epoch 38/50\n",
            "2709/2709 [==============================] - 12s 4ms/step - loss: 0.0016\n",
            "Epoch 39/50\n",
            "2709/2709 [==============================] - 12s 4ms/step - loss: 0.0016\n",
            "Epoch 40/50\n",
            "2709/2709 [==============================] - 12s 4ms/step - loss: 0.0016\n",
            "Epoch 41/50\n",
            "2709/2709 [==============================] - 12s 4ms/step - loss: 0.0015\n",
            "Epoch 42/50\n",
            "2709/2709 [==============================] - 12s 4ms/step - loss: 0.0016\n",
            "Epoch 43/50\n",
            "2709/2709 [==============================] - 12s 4ms/step - loss: 0.0016\n",
            "Epoch 44/50\n",
            "2709/2709 [==============================] - 12s 4ms/step - loss: 0.0016\n",
            "Epoch 45/50\n",
            "2709/2709 [==============================] - 12s 4ms/step - loss: 0.0014\n",
            "Epoch 46/50\n",
            "2709/2709 [==============================] - 12s 4ms/step - loss: 0.0015\n",
            "Epoch 47/50\n",
            "2709/2709 [==============================] - 12s 4ms/step - loss: 0.0014\n",
            "Epoch 48/50\n",
            "2709/2709 [==============================] - 12s 4ms/step - loss: 0.0015\n",
            "Epoch 49/50\n",
            "2709/2709 [==============================] - 11s 4ms/step - loss: 0.0014\n",
            "Epoch 50/50\n",
            "2709/2709 [==============================] - 11s 4ms/step - loss: 0.0014\n"
          ],
          "name": "stdout"
        },
        {
          "output_type": "execute_result",
          "data": {
            "text/plain": [
              "<keras.callbacks.callbacks.History at 0x7f9a947e63c8>"
            ]
          },
          "metadata": {
            "tags": []
          },
          "execution_count": 29
        }
      ]
    },
    {
      "cell_type": "code",
      "metadata": {
        "id": "ri8mt6jCszKq",
        "colab_type": "code",
        "colab": {}
      },
      "source": [
        "dataset_total = pd.concat((dataset['High'][:'2016'], dataset['High']['2017':]), axis=0)\n",
        "inputs = dataset_total[len(dataset_total)-len(test_set)- 60:].values\n",
        "inputs = inputs.reshape(-1, 1)\n",
        "inputs = sc.transform(inputs)"
      ],
      "execution_count": 30,
      "outputs": []
    },
    {
      "cell_type": "code",
      "metadata": {
        "id": "B7cL8mLx0XUZ",
        "colab_type": "code",
        "colab": {}
      },
      "source": [
        "X_test = []\n",
        "for i in range(60, 311):\n",
        "  X_test.append(inputs[i-60:i, 0])\n",
        "X_test = np.array(X_test)\n",
        "X_test = np.reshape(X_test, (X_test.shape[0], X_test.shape[1], 1))\n",
        "\n",
        "predicted_stock_price = regressor.predict(X_test)\n",
        "predicted_stock_price = sc.inverse_transform(predicted_stock_price)"
      ],
      "execution_count": 31,
      "outputs": []
    },
    {
      "cell_type": "code",
      "metadata": {
        "id": "ocY1sx1u1u0p",
        "colab_type": "code",
        "colab": {
          "base_uri": "https://localhost:8080/",
          "height": 295
        },
        "outputId": "36728ca8-e031-47e9-8705-156dae16e7d3"
      },
      "source": [
        "plot_predictions(test_set, predicted_stock_price)"
      ],
      "execution_count": 32,
      "outputs": [
        {
          "output_type": "display_data",
          "data": {
            "image/png": "[encoded data removed]",
            "text/plain": [
              "<Figure size 432x288 with 1 Axes>"
            ]
          },
          "metadata": {
            "tags": [],
            "needs_background": "light"
          }
        }
      ]
    },
    {
      "cell_type": "code",
      "metadata": {
        "id": "qL8QDy0V2wFm",
        "colab_type": "code",
        "colab": {
          "base_uri": "https://localhost:8080/",
          "height": 35
        },
        "outputId": "1eddd575-50fb-4c50-9cd5-ab62524c82dd"
      },
      "source": [
        "return_rmse(test_set, predicted_stock_price)"
      ],
      "execution_count": 33,
      "outputs": [
        {
          "output_type": "stream",
          "text": [
            "The root mean squared error is 2.0632481439818213\n"
          ],
          "name": "stdout"
        }
      ]
    },
    {
      "cell_type": "markdown",
      "metadata": {
        "id": "2cqQs8i_30ZA",
        "colab_type": "text"
      },
      "source": [
        "# GRU"
      ]
    },
    {
      "cell_type": "code",
      "metadata": {
        "id": "q6WPzd043kCM",
        "colab_type": "code",
        "colab": {}
      },
      "source": [
        "regressorGRU = Sequential()\n",
        "regressorGRU.add(GRU(units=50, return_sequences=True, input_shape=(X_train.shape[1], 1), activation='tanh'))\n",
        "regressorGRU.add(Dropout(0.2))\n",
        "\n",
        "regressorGRU.add(GRU(units=50, return_sequences=True, input_shape=(X_train.shape[1], 1), activation='tanh'))\n",
        "regressorGRU.add(Dropout(0.2))\n",
        "\n",
        "regressorGRU.add(GRU(units=50, return_sequences=True, input_shape=(X_train.shape[1], 1), activation='tanh'))\n",
        "regressorGRU.add(Dropout(0.2))\n",
        "\n",
        "regressorGRU.add(GRU(units=50, activation='tanh'))\n",
        "regressorGRU.add(Dropout(0.2))\n",
        "\n",
        "regressorGRU.add(Dense(units=1))\n",
        "\n",
        "regressorGRU.compile(optimizer=SGD(learning_rate=0.01, decay=1e-7, momentum=0.9, nesterov=False), loss='mean_squared_error')"
      ],
      "execution_count": 34,
      "outputs": []
    },
    {
      "cell_type": "code",
      "metadata": {
        "id": "IcoSW6G64m_L",
        "colab_type": "code",
        "colab": {
          "base_uri": "https://localhost:8080/",
          "height": 1000
        },
        "outputId": "ce75b432-19f0-404d-b009-284a7e58a360"
      },
      "source": [
        "regressorGRU.fit(X_train, y_train, epochs=50, batch_size=150)"
      ],
      "execution_count": 35,
      "outputs": [
        {
          "output_type": "stream",
          "text": [
            "Epoch 1/50\n",
            "2709/2709 [==============================] - 8s 3ms/step - loss: 0.1130\n",
            "Epoch 2/50\n",
            "2709/2709 [==============================] - 6s 2ms/step - loss: 0.0354\n",
            "Epoch 3/50\n",
            "2709/2709 [==============================] - 6s 2ms/step - loss: 0.0086\n",
            "Epoch 4/50\n",
            "2709/2709 [==============================] - 6s 2ms/step - loss: 0.0049\n",
            "Epoch 5/50\n",
            "2709/2709 [==============================] - 6s 2ms/step - loss: 0.0043\n",
            "Epoch 6/50\n",
            "2709/2709 [==============================] - 6s 2ms/step - loss: 0.0037\n",
            "Epoch 7/50\n",
            "2709/2709 [==============================] - 6s 2ms/step - loss: 0.0036\n",
            "Epoch 8/50\n",
            "2709/2709 [==============================] - 6s 2ms/step - loss: 0.0033\n",
            "Epoch 9/50\n",
            "2709/2709 [==============================] - 6s 2ms/step - loss: 0.0034\n",
            "Epoch 10/50\n",
            "2709/2709 [==============================] - 6s 2ms/step - loss: 0.0033\n",
            "Epoch 11/50\n",
            "2709/2709 [==============================] - 6s 2ms/step - loss: 0.0030\n",
            "Epoch 12/50\n",
            "2709/2709 [==============================] - 6s 2ms/step - loss: 0.0028\n",
            "Epoch 13/50\n",
            "2709/2709 [==============================] - 6s 2ms/step - loss: 0.0028\n",
            "Epoch 14/50\n",
            "2709/2709 [==============================] - 6s 2ms/step - loss: 0.0028\n",
            "Epoch 15/50\n",
            "2709/2709 [==============================] - 6s 2ms/step - loss: 0.0029\n",
            "Epoch 16/50\n",
            "2709/2709 [==============================] - 6s 2ms/step - loss: 0.0028\n",
            "Epoch 17/50\n",
            "2709/2709 [==============================] - 6s 2ms/step - loss: 0.0028\n",
            "Epoch 18/50\n",
            "2709/2709 [==============================] - 6s 2ms/step - loss: 0.0026\n",
            "Epoch 19/50\n",
            "2709/2709 [==============================] - 6s 2ms/step - loss: 0.0026\n",
            "Epoch 20/50\n",
            "2709/2709 [==============================] - 6s 2ms/step - loss: 0.0025\n",
            "Epoch 21/50\n",
            "2709/2709 [==============================] - 6s 2ms/step - loss: 0.0025\n",
            "Epoch 22/50\n",
            "2709/2709 [==============================] - 6s 2ms/step - loss: 0.0024\n",
            "Epoch 23/50\n",
            "2709/2709 [==============================] - 6s 2ms/step - loss: 0.0026\n",
            "Epoch 24/50\n",
            "2709/2709 [==============================] - 6s 2ms/step - loss: 0.0024\n",
            "Epoch 25/50\n",
            "2709/2709 [==============================] - 6s 2ms/step - loss: 0.0023\n",
            "Epoch 26/50\n",
            "2709/2709 [==============================] - 6s 2ms/step - loss: 0.0023\n",
            "Epoch 27/50\n",
            "2709/2709 [==============================] - 6s 2ms/step - loss: 0.0023\n",
            "Epoch 28/50\n",
            "2709/2709 [==============================] - 6s 2ms/step - loss: 0.0023\n",
            "Epoch 29/50\n",
            "2709/2709 [==============================] - 6s 2ms/step - loss: 0.0023\n",
            "Epoch 30/50\n",
            "2709/2709 [==============================] - 6s 2ms/step - loss: 0.0023\n",
            "Epoch 31/50\n",
            "2709/2709 [==============================] - 6s 2ms/step - loss: 0.0024\n",
            "Epoch 32/50\n",
            "2709/2709 [==============================] - 6s 2ms/step - loss: 0.0022\n",
            "Epoch 33/50\n",
            "2709/2709 [==============================] - 6s 2ms/step - loss: 0.0022\n",
            "Epoch 34/50\n",
            "2709/2709 [==============================] - 6s 2ms/step - loss: 0.0023\n",
            "Epoch 35/50\n",
            "2709/2709 [==============================] - 6s 2ms/step - loss: 0.0021\n",
            "Epoch 36/50\n",
            "2709/2709 [==============================] - 6s 2ms/step - loss: 0.0023\n",
            "Epoch 37/50\n",
            "2709/2709 [==============================] - 6s 2ms/step - loss: 0.0022\n",
            "Epoch 38/50\n",
            "2709/2709 [==============================] - 6s 2ms/step - loss: 0.0022\n",
            "Epoch 39/50\n",
            "2709/2709 [==============================] - 6s 2ms/step - loss: 0.0022\n",
            "Epoch 40/50\n",
            "2709/2709 [==============================] - 6s 2ms/step - loss: 0.0022\n",
            "Epoch 41/50\n",
            "2709/2709 [==============================] - 6s 2ms/step - loss: 0.0022\n",
            "Epoch 42/50\n",
            "2709/2709 [==============================] - 6s 2ms/step - loss: 0.0022\n",
            "Epoch 43/50\n",
            "2709/2709 [==============================] - 6s 2ms/step - loss: 0.0021\n",
            "Epoch 44/50\n",
            "2709/2709 [==============================] - 6s 2ms/step - loss: 0.0021\n",
            "Epoch 45/50\n",
            "2709/2709 [==============================] - 6s 2ms/step - loss: 0.0021\n",
            "Epoch 46/50\n",
            "2709/2709 [==============================] - 6s 2ms/step - loss: 0.0021\n",
            "Epoch 47/50\n",
            "2709/2709 [==============================] - 6s 2ms/step - loss: 0.0021\n",
            "Epoch 48/50\n",
            "2709/2709 [==============================] - 6s 2ms/step - loss: 0.0021\n",
            "Epoch 49/50\n",
            "2709/2709 [==============================] - 6s 2ms/step - loss: 0.0021\n",
            "Epoch 50/50\n",
            "2709/2709 [==============================] - 6s 2ms/step - loss: 0.0021\n"
          ],
          "name": "stdout"
        },
        {
          "output_type": "execute_result",
          "data": {
            "text/plain": [
              "<keras.callbacks.callbacks.History at 0x7f9a89ea4940>"
            ]
          },
          "metadata": {
            "tags": []
          },
          "execution_count": 35
        }
      ]
    },
    {
      "cell_type": "code",
      "metadata": {
        "id": "1DleqdWa681A",
        "colab_type": "code",
        "colab": {}
      },
      "source": [
        "X_test = []\n",
        "for i in range(60, 311):\n",
        "  X_test.append(inputs[i-60:i, 0])\n",
        "X_test = np.array(X_test)\n",
        "X_test = np.reshape(X_test, (X_test.shape[0], X_test.shape[1], 1))\n",
        "\n",
        "GRU_predicted_stock_price = regressorGRU.predict(X_test)\n",
        "GRU_predicted_stock_price = sc.inverse_transform(GRU_predicted_stock_price)"
      ],
      "execution_count": 36,
      "outputs": []
    },
    {
      "cell_type": "code",
      "metadata": {
        "id": "FM5stRVp8Pix",
        "colab_type": "code",
        "colab": {
          "base_uri": "https://localhost:8080/",
          "height": 295
        },
        "outputId": "1189601d-16df-4585-84de-4dd77a35ef8b"
      },
      "source": [
        "plot_predictions(test_set, GRU_predicted_stock_price)"
      ],
      "execution_count": 37,
      "outputs": [
        {
          "output_type": "display_data",
          "data": {
            "image/png": "[encoded data removed]",
            "text/plain": [
              "<Figure size 432x288 with 1 Axes>"
            ]
          },
          "metadata": {
            "tags": [],
            "needs_background": "light"
          }
        }
      ]
    },
    {
      "cell_type": "code",
      "metadata": {
        "id": "gKOAUAE78axB",
        "colab_type": "code",
        "colab": {}
      },
      "source": [
        "initial_sequence = X_train[2708,:]\n",
        "sequence = []\n",
        "for i in range(251):\n",
        "  new_prediction = regressorGRU.predict(initial_sequence.reshape(\n",
        "                                            initial_sequence.shape[1], \n",
        "                                            initial_sequence.shape[0],\n",
        "                                            1))\n",
        "  initial_sequence = initial_sequence[1:]\n",
        "  initial_sequence = np.append(initial_sequence, new_prediction, axis=0)\n",
        "  sequence.append(new_prediction)\n",
        "sequence = sc.inverse_transform(np.array(sequence).reshape(251, 1))"
      ],
      "execution_count": 38,
      "outputs": []
    },
    {
      "cell_type": "code",
      "metadata": {
        "id": "pEFlhczG-sZs",
        "colab_type": "code",
        "colab": {
          "base_uri": "https://localhost:8080/",
          "height": 295
        },
        "outputId": "269cc0c0-cac3-4ed1-df69-6254e1e2c5fa"
      },
      "source": [
        "plot_predictions(test_set, sequence)"
      ],
      "execution_count": 39,
      "outputs": [
        {
          "output_type": "display_data",
          "data": {
            "image/png": "[encoded data removed]",
            "text/plain": [
              "<Figure size 432x288 with 1 Axes>"
            ]
          },
          "metadata": {
            "tags": [],
            "needs_background": "light"
          }
        }
      ]
    },
    {
      "cell_type": "code",
      "metadata": {
        "id": "VRqPk7SA-y1g",
        "colab_type": "code",
        "colab": {
          "base_uri": "https://localhost:8080/",
          "height": 35
        },
        "outputId": "51e0e16c-d145-4970-dfb6-2986b37501ed"
      },
      "source": [
        "return_rmse(test_set, sequence)"
      ],
      "execution_count": 40,
      "outputs": [
        {
          "output_type": "stream",
          "text": [
            "The root mean squared error is 10.874694026987815\n"
          ],
          "name": "stdout"
        }
      ]
    },
    {
      "cell_type": "code",
      "metadata": {
        "id": "eNkhgni4_F3L",
        "colab_type": "code",
        "colab": {}
      },
      "source": [
        ""
      ],
      "execution_count": 40,
      "outputs": []
    }
  ]
}