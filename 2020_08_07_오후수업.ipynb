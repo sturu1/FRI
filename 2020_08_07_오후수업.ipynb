{
  "nbformat": 4,
  "nbformat_minor": 0,
  "metadata": {
    "colab": {
      "name": "2020_08_07_오후수업.ipynb",
      "provenance": [],
      "authorship_tag": "ABX9TyNc27FuU4hkwPf9bdbw0YG1",
      "include_colab_link": true
    },
    "kernelspec": {
      "name": "python3",
      "display_name": "Python 3"
    }
  },
  "cells": [
    {
      "cell_type": "markdown",
      "metadata": {
        "id": "view-in-github",
        "colab_type": "text"
      },
      "source": [
        "<a href=\"https://colab.research.google.com/github/sturu1/FRI/blob/master/2020_08_07_%EC%98%A4%ED%9B%84%EC%88%98%EC%97%85.ipynb\" target=\"_parent\"><img src=\"https://colab.research.google.com/assets/colab-badge.svg\" alt=\"Open In Colab\"/></a>"
      ]
    },
    {
      "cell_type": "code",
      "metadata": {
        "id": "au1FRQvLXEdQ",
        "colab_type": "code",
        "colab": {}
      },
      "source": [
        "import torch"
      ],
      "execution_count": 2,
      "outputs": []
    },
    {
      "cell_type": "code",
      "metadata": {
        "id": "okZycWsOXfWR",
        "colab_type": "code",
        "colab": {
          "base_uri": "https://localhost:8080/",
          "height": 102
        },
        "outputId": "d40a643b-0576-4d52-f066-3ffe73d63f76"
      },
      "source": [
        "x = torch.empty(5, 3)\n",
        "print(x)"
      ],
      "execution_count": 3,
      "outputs": [
        {
          "output_type": "stream",
          "text": [
            "tensor([[2.7764e-35, 0.0000e+00, 3.3631e-44],\n",
            "        [0.0000e+00,        nan, 6.1657e-44],\n",
            "        [1.1578e+27, 1.1362e+30, 7.1547e+22],\n",
            "        [4.5828e+30, 1.2121e+04, 7.1846e+22],\n",
            "        [9.2198e-39, 7.0374e+22, 0.0000e+00]])\n"
          ],
          "name": "stdout"
        }
      ]
    },
    {
      "cell_type": "code",
      "metadata": {
        "id": "Leckjy4CXzAt",
        "colab_type": "code",
        "colab": {
          "base_uri": "https://localhost:8080/",
          "height": 102
        },
        "outputId": "a43a18e8-8cab-4dec-85a1-8b7c963d3198"
      },
      "source": [
        "x = torch.rand(5, 3)\n",
        "print(x)"
      ],
      "execution_count": 4,
      "outputs": [
        {
          "output_type": "stream",
          "text": [
            "tensor([[0.2702, 0.3512, 0.2677],\n",
            "        [0.7924, 0.2843, 0.9383],\n",
            "        [0.0909, 0.4233, 0.8465],\n",
            "        [0.4036, 0.5603, 0.1945],\n",
            "        [0.3768, 0.7543, 0.4255]])\n"
          ],
          "name": "stdout"
        }
      ]
    },
    {
      "cell_type": "code",
      "metadata": {
        "id": "WpeomyAWX6nC",
        "colab_type": "code",
        "colab": {
          "base_uri": "https://localhost:8080/",
          "height": 102
        },
        "outputId": "314dd8e0-c79c-4a29-8bd1-de5656750cf8"
      },
      "source": [
        "x = torch.zeros(5, 3, dtype = torch.long)\n",
        "print(x)"
      ],
      "execution_count": 8,
      "outputs": [
        {
          "output_type": "stream",
          "text": [
            "tensor([[0, 0, 0],\n",
            "        [0, 0, 0],\n",
            "        [0, 0, 0],\n",
            "        [0, 0, 0],\n",
            "        [0, 0, 0]])\n"
          ],
          "name": "stdout"
        }
      ]
    },
    {
      "cell_type": "code",
      "metadata": {
        "id": "BkfdcRjxYLQX",
        "colab_type": "code",
        "colab": {
          "base_uri": "https://localhost:8080/",
          "height": 34
        },
        "outputId": "b4d809f7-a344-41fc-d5a9-4e1a14b21b58"
      },
      "source": [
        "x = torch.tensor([5.5, 3])\n",
        "print(x)"
      ],
      "execution_count": 9,
      "outputs": [
        {
          "output_type": "stream",
          "text": [
            "tensor([5.5000, 3.0000])\n"
          ],
          "name": "stdout"
        }
      ]
    },
    {
      "cell_type": "code",
      "metadata": {
        "id": "KXBlcu_lYXFe",
        "colab_type": "code",
        "colab": {
          "base_uri": "https://localhost:8080/",
          "height": 102
        },
        "outputId": "279a4228-bf1a-4d49-9958-c9bca90fdd29"
      },
      "source": [
        "x = x.new_ones(5, 3, dtype = torch.double)\n",
        "print(x)"
      ],
      "execution_count": 10,
      "outputs": [
        {
          "output_type": "stream",
          "text": [
            "tensor([[1., 1., 1.],\n",
            "        [1., 1., 1.],\n",
            "        [1., 1., 1.],\n",
            "        [1., 1., 1.],\n",
            "        [1., 1., 1.]], dtype=torch.float64)\n"
          ],
          "name": "stdout"
        }
      ]
    },
    {
      "cell_type": "code",
      "metadata": {
        "id": "g03rGDzzYko9",
        "colab_type": "code",
        "colab": {
          "base_uri": "https://localhost:8080/",
          "height": 102
        },
        "outputId": "7d8c39db-f74f-4463-c742-331a901dc9b4"
      },
      "source": [
        "x= torch.rand_like(x, dtype = torch.float)\n",
        "print(x)"
      ],
      "execution_count": 11,
      "outputs": [
        {
          "output_type": "stream",
          "text": [
            "tensor([[0.4791, 0.6035, 0.5003],\n",
            "        [0.0236, 0.5065, 0.7618],\n",
            "        [0.7898, 0.0070, 0.4012],\n",
            "        [0.1055, 0.3057, 0.4614],\n",
            "        [0.0801, 0.6672, 0.4702]])\n"
          ],
          "name": "stdout"
        }
      ]
    },
    {
      "cell_type": "code",
      "metadata": {
        "id": "xiKMGgnRYwaz",
        "colab_type": "code",
        "colab": {
          "base_uri": "https://localhost:8080/",
          "height": 34
        },
        "outputId": "8fba173f-524c-4f9c-cff0-ccf38e01cbad"
      },
      "source": [
        "print(x.size())"
      ],
      "execution_count": 12,
      "outputs": [
        {
          "output_type": "stream",
          "text": [
            "torch.Size([5, 3])\n"
          ],
          "name": "stdout"
        }
      ]
    },
    {
      "cell_type": "code",
      "metadata": {
        "id": "QLEQiFgBY4Lc",
        "colab_type": "code",
        "colab": {
          "base_uri": "https://localhost:8080/",
          "height": 102
        },
        "outputId": "9c5c703a-d9cb-4e4f-87bf-9a7921ab2de0"
      },
      "source": [
        "y = torch.rand(5, 3)\n",
        "print(x)"
      ],
      "execution_count": 13,
      "outputs": [
        {
          "output_type": "stream",
          "text": [
            "tensor([[0.4791, 0.6035, 0.5003],\n",
            "        [0.0236, 0.5065, 0.7618],\n",
            "        [0.7898, 0.0070, 0.4012],\n",
            "        [0.1055, 0.3057, 0.4614],\n",
            "        [0.0801, 0.6672, 0.4702]])\n"
          ],
          "name": "stdout"
        }
      ]
    },
    {
      "cell_type": "code",
      "metadata": {
        "id": "a3K9M5KBY-bb",
        "colab_type": "code",
        "colab": {
          "base_uri": "https://localhost:8080/",
          "height": 102
        },
        "outputId": "864f019e-2a71-427d-8ea9-2e7397cfac6b"
      },
      "source": [
        "print(torch.add(x, y))"
      ],
      "execution_count": 14,
      "outputs": [
        {
          "output_type": "stream",
          "text": [
            "tensor([[0.7146, 1.1136, 0.7923],\n",
            "        [0.8273, 0.5805, 1.3282],\n",
            "        [1.2667, 0.0804, 0.7107],\n",
            "        [0.7625, 1.1213, 1.0321],\n",
            "        [0.7709, 1.4658, 1.4341]])\n"
          ],
          "name": "stdout"
        }
      ]
    },
    {
      "cell_type": "code",
      "metadata": {
        "id": "i7wKrnRcZBhM",
        "colab_type": "code",
        "colab": {
          "base_uri": "https://localhost:8080/",
          "height": 102
        },
        "outputId": "92a87801-b306-40ea-8ba3-4efe42e1d863"
      },
      "source": [
        "result = torch.empty(5, 3)\n",
        "torch.add(x, y, out = result)\n",
        "print(result)"
      ],
      "execution_count": 16,
      "outputs": [
        {
          "output_type": "stream",
          "text": [
            "tensor([[0.7146, 1.1136, 0.7923],\n",
            "        [0.8273, 0.5805, 1.3282],\n",
            "        [1.2667, 0.0804, 0.7107],\n",
            "        [0.7625, 1.1213, 1.0321],\n",
            "        [0.7709, 1.4658, 1.4341]])\n"
          ],
          "name": "stdout"
        }
      ]
    },
    {
      "cell_type": "code",
      "metadata": {
        "id": "1trOCh_6ZW__",
        "colab_type": "code",
        "colab": {
          "base_uri": "https://localhost:8080/",
          "height": 102
        },
        "outputId": "8791a47c-53fb-4fa5-de05-45b1cc442a7d"
      },
      "source": [
        "y.add(x)\n",
        "print(y)"
      ],
      "execution_count": 18,
      "outputs": [
        {
          "output_type": "stream",
          "text": [
            "tensor([[0.2355, 0.5102, 0.2920],\n",
            "        [0.8037, 0.0740, 0.5664],\n",
            "        [0.4768, 0.0734, 0.3095],\n",
            "        [0.6570, 0.8155, 0.5707],\n",
            "        [0.6908, 0.7986, 0.9639]])\n"
          ],
          "name": "stdout"
        }
      ]
    },
    {
      "cell_type": "code",
      "metadata": {
        "id": "kak3D4kbZfQi",
        "colab_type": "code",
        "colab": {
          "base_uri": "https://localhost:8080/",
          "height": 34
        },
        "outputId": "b925e1f1-b9e7-429c-9f08-78875dafd70a"
      },
      "source": [
        "print(x[:, 1])"
      ],
      "execution_count": 19,
      "outputs": [
        {
          "output_type": "stream",
          "text": [
            "tensor([0.6035, 0.5065, 0.0070, 0.3057, 0.6672])\n"
          ],
          "name": "stdout"
        }
      ]
    },
    {
      "cell_type": "code",
      "metadata": {
        "id": "6vB2j8T0Zl7h",
        "colab_type": "code",
        "colab": {
          "base_uri": "https://localhost:8080/",
          "height": 119
        },
        "outputId": "56f2e034-0500-40e9-ffee-712240849b8a"
      },
      "source": [
        "x = torch.randn(4, 4)\n",
        "print(x)\n",
        "y = x.view(16)\n",
        "print(y)"
      ],
      "execution_count": 21,
      "outputs": [
        {
          "output_type": "stream",
          "text": [
            "tensor([[-1.1246,  3.0267, -0.2126, -0.1227],\n",
            "        [ 1.0921, -0.4286, -1.6811,  0.6656],\n",
            "        [ 0.2184,  0.6263, -0.5869, -0.6360],\n",
            "        [ 1.7618,  0.1955,  1.3523, -0.4984]])\n",
            "tensor([-1.1246,  3.0267, -0.2126, -0.1227,  1.0921, -0.4286, -1.6811,  0.6656,\n",
            "         0.2184,  0.6263, -0.5869, -0.6360,  1.7618,  0.1955,  1.3523, -0.4984])\n"
          ],
          "name": "stdout"
        }
      ]
    },
    {
      "cell_type": "code",
      "metadata": {
        "id": "hIAkUh1rZyHW",
        "colab_type": "code",
        "colab": {
          "base_uri": "https://localhost:8080/",
          "height": 51
        },
        "outputId": "b21ee90b-d5a2-491d-a7cc-4f058e686055"
      },
      "source": [
        "z = x.view(-1, 8)\n",
        "print(z)"
      ],
      "execution_count": 23,
      "outputs": [
        {
          "output_type": "stream",
          "text": [
            "tensor([[-1.1246,  3.0267, -0.2126, -0.1227,  1.0921, -0.4286, -1.6811,  0.6656],\n",
            "        [ 0.2184,  0.6263, -0.5869, -0.6360,  1.7618,  0.1955,  1.3523, -0.4984]])\n"
          ],
          "name": "stdout"
        }
      ]
    },
    {
      "cell_type": "code",
      "metadata": {
        "id": "HYp3qO_sZ9k9",
        "colab_type": "code",
        "colab": {
          "base_uri": "https://localhost:8080/",
          "height": 34
        },
        "outputId": "82ebf753-8bb4-46bd-83ab-3d331aaf4c54"
      },
      "source": [
        "print(x.size(), y.size(), z.size())"
      ],
      "execution_count": 24,
      "outputs": [
        {
          "output_type": "stream",
          "text": [
            "torch.Size([4, 4]) torch.Size([16]) torch.Size([2, 8])\n"
          ],
          "name": "stdout"
        }
      ]
    },
    {
      "cell_type": "code",
      "metadata": {
        "id": "qASmc16raHr7",
        "colab_type": "code",
        "colab": {
          "base_uri": "https://localhost:8080/",
          "height": 51
        },
        "outputId": "e96a9322-1f62-4036-c945-66b9a85523d1"
      },
      "source": [
        "x = torch.randn(1)\n",
        "print(x)\n",
        "print(x.item())"
      ],
      "execution_count": 26,
      "outputs": [
        {
          "output_type": "stream",
          "text": [
            "tensor([-1.4507])\n",
            "-1.4507375955581665\n"
          ],
          "name": "stdout"
        }
      ]
    },
    {
      "cell_type": "code",
      "metadata": {
        "id": "3iqNDLbsaQlF",
        "colab_type": "code",
        "colab": {}
      },
      "source": [
        ""
      ],
      "execution_count": null,
      "outputs": []
    }
  ]
}